{
 "cells": [
  {
   "cell_type": "code",
   "execution_count": 1,
   "metadata": {},
   "outputs": [
    {
     "name": "stderr",
     "output_type": "stream",
     "text": [
      "Using TensorFlow backend.\n"
     ]
    }
   ],
   "source": [
    "import matplotlib.pyplot as plt\n",
    "from keras.models import load_model\n",
    "from keras.preprocessing.image import image\n",
    "import numpy as np\n",
    "from keras.applications import VGG16\n",
    "import cv2\n",
    "import os"
   ]
  },
  {
   "cell_type": "code",
   "execution_count": 2,
   "metadata": {},
   "outputs": [],
   "source": [
    "model=load_model(\"model1.h5\")"
   ]
  },
  {
   "cell_type": "code",
   "execution_count": 14,
   "metadata": {},
   "outputs": [],
   "source": [
    "face_cascade = cv2.CascadeClassifier('haarcascade_frontalface_default.xml')"
   ]
  },
  {
   "cell_type": "code",
   "execution_count": 15,
   "metadata": {},
   "outputs": [],
   "source": [
    "def detect(gray,frame):\n",
    "    faces = face_cascade.detectMultiScale(gray, 1.3, 5)\n",
    "    crop_img = frame\n",
    "    for (x,y,w,h) in faces:\n",
    "        cv2.rectangle(frame,(x,y),(x+w,y+h),(255,0,0),2)\n",
    "        crop_img = frame[y: y + h, x: x + w]\n",
    "        \n",
    "    return frame,crop_img"
   ]
  },
  {
   "cell_type": "code",
   "execution_count": 20,
   "metadata": {},
   "outputs": [],
   "source": [
    "def load_image(img):\n",
    "    img = img.reshape(48,48,3)\n",
    "    \n",
    "    img_tensor = image.img_to_array(img) \n",
    "    img_tensor /= 255.  \n",
    "    #print(img_tensor.shape)\n",
    "    \n",
    "    return img_tensor"
   ]
  },
  {
   "cell_type": "code",
   "execution_count": 21,
   "metadata": {},
   "outputs": [],
   "source": [
    "def prediction(img_tensor): \n",
    "    #prediction = model.predict_classes(img_tensor.reshape(1,48,48,3))\n",
    "    \n",
    "    prediction = model.predict(img_tensor.reshape(1,48,48,3)) \n",
    "    prediction_classes = prediction.argmax(axis=-1)\n",
    "    classes = [\"Angry\", \"Disgust\", \"Fear\", \"Happy\", \"Neutral\", \"Sad\",\"Surprise\"]\n",
    "    return (classes[prediction_classes[0]])"
   ]
  },
  {
   "cell_type": "code",
   "execution_count": 22,
   "metadata": {},
   "outputs": [],
   "source": [
    "video_capture = cv2.VideoCapture('myvdo.mov')\n",
    "fn=0\n",
    "while True:\n",
    "    _ , frame = video_capture.read()\n",
    "    gray = cv2.cvtColor(frame, cv2.COLOR_BGR2GRAY)\n",
    "    #cv2.imshow('Video',gray)\n",
    "    canvas,crop_img = detect(gray,frame)\n",
    "    no = str(fn)\n",
    "    fn+=1\n",
    "    #cv2.imwrite('my'+no+'.jpg',crop_img)\n",
    "    crop_img=cv2.resize(crop_img,(48,48))\n",
    "    name = prediction(load_image(crop_img))\n",
    "    cv2.putText(frame, name, (0,225), cv2.FONT_HERSHEY_TRIPLEX, 1.0, (0,255,0), 2)\n",
    "    cv2.imshow('Video',frame)\n",
    "    #if(fn==3):\n",
    "        #break;\n",
    "    if cv2.waitKey(1) & 0xFF == ord('q'):\n",
    "        break\n",
    "video_capture.release()\n",
    "cv2.destroyAllWindows()"
   ]
  },
  {
   "cell_type": "code",
   "execution_count": null,
   "metadata": {},
   "outputs": [],
   "source": []
  }
 ],
 "metadata": {
  "kernelspec": {
   "display_name": "Python 3",
   "language": "python",
   "name": "python3"
  },
  "language_info": {
   "codemirror_mode": {
    "name": "ipython",
    "version": 3
   },
   "file_extension": ".py",
   "mimetype": "text/x-python",
   "name": "python",
   "nbconvert_exporter": "python",
   "pygments_lexer": "ipython3",
   "version": "3.6.9"
  }
 },
 "nbformat": 4,
 "nbformat_minor": 2
}
