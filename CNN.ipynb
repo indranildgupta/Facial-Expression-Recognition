{
 "cells": [
  {
   "cell_type": "code",
   "execution_count": 1,
   "metadata": {},
   "outputs": [
    {
     "name": "stderr",
     "output_type": "stream",
     "text": [
      "Using TensorFlow backend.\n"
     ]
    }
   ],
   "source": [
    "from keras.layers import Input,Dense, Flatten\n",
    "from keras.models import Model\n",
    "from keras.applications.vgg16 import VGG16\n",
    "from keras.applications.vgg16 import preprocess_input\n",
    "from keras.preprocessing import image\n",
    "from keras.preprocessing.image import ImageDataGenerator\n",
    "from keras.models import Sequential\n",
    "import numpy as np\n",
    "from keras.callbacks.callbacks import ModelCheckpoint\n",
    "import matplotlib.pyplot as plt"
   ]
  },
  {
   "cell_type": "code",
   "execution_count": 2,
   "metadata": {},
   "outputs": [],
   "source": [
    "vgg = VGG16(input_shape=[48,48] + [3], weights='imagenet', include_top=False)"
   ]
  },
  {
   "cell_type": "code",
   "execution_count": 3,
   "metadata": {},
   "outputs": [
    {
     "name": "stdout",
     "output_type": "stream",
     "text": [
      "Model: \"vgg16\"\n",
      "_________________________________________________________________\n",
      "Layer (type)                 Output Shape              Param #   \n",
      "=================================================================\n",
      "input_1 (InputLayer)         (None, 48, 48, 3)         0         \n",
      "_________________________________________________________________\n",
      "block1_conv1 (Conv2D)        (None, 48, 48, 64)        1792      \n",
      "_________________________________________________________________\n",
      "block1_conv2 (Conv2D)        (None, 48, 48, 64)        36928     \n",
      "_________________________________________________________________\n",
      "block1_pool (MaxPooling2D)   (None, 24, 24, 64)        0         \n",
      "_________________________________________________________________\n",
      "block2_conv1 (Conv2D)        (None, 24, 24, 128)       73856     \n",
      "_________________________________________________________________\n",
      "block2_conv2 (Conv2D)        (None, 24, 24, 128)       147584    \n",
      "_________________________________________________________________\n",
      "block2_pool (MaxPooling2D)   (None, 12, 12, 128)       0         \n",
      "_________________________________________________________________\n",
      "block3_conv1 (Conv2D)        (None, 12, 12, 256)       295168    \n",
      "_________________________________________________________________\n",
      "block3_conv2 (Conv2D)        (None, 12, 12, 256)       590080    \n",
      "_________________________________________________________________\n",
      "block3_conv3 (Conv2D)        (None, 12, 12, 256)       590080    \n",
      "_________________________________________________________________\n",
      "block3_pool (MaxPooling2D)   (None, 6, 6, 256)         0         \n",
      "_________________________________________________________________\n",
      "block4_conv1 (Conv2D)        (None, 6, 6, 512)         1180160   \n",
      "_________________________________________________________________\n",
      "block4_conv2 (Conv2D)        (None, 6, 6, 512)         2359808   \n",
      "_________________________________________________________________\n",
      "block4_conv3 (Conv2D)        (None, 6, 6, 512)         2359808   \n",
      "_________________________________________________________________\n",
      "block4_pool (MaxPooling2D)   (None, 3, 3, 512)         0         \n",
      "_________________________________________________________________\n",
      "block5_conv1 (Conv2D)        (None, 3, 3, 512)         2359808   \n",
      "_________________________________________________________________\n",
      "block5_conv2 (Conv2D)        (None, 3, 3, 512)         2359808   \n",
      "_________________________________________________________________\n",
      "block5_conv3 (Conv2D)        (None, 3, 3, 512)         2359808   \n",
      "_________________________________________________________________\n",
      "block5_pool (MaxPooling2D)   (None, 1, 1, 512)         0         \n",
      "=================================================================\n",
      "Total params: 14,714,688\n",
      "Trainable params: 14,714,688\n",
      "Non-trainable params: 0\n",
      "_________________________________________________________________\n"
     ]
    }
   ],
   "source": [
    "vgg.summary()"
   ]
  },
  {
   "cell_type": "code",
   "execution_count": 4,
   "metadata": {},
   "outputs": [],
   "source": [
    "for layer in vgg.layers:\n",
    "    layer.trainable = False"
   ]
  },
  {
   "cell_type": "code",
   "execution_count": 5,
   "metadata": {},
   "outputs": [
    {
     "name": "stdout",
     "output_type": "stream",
     "text": [
      "Model: \"model_1\"\n",
      "_________________________________________________________________\n",
      "Layer (type)                 Output Shape              Param #   \n",
      "=================================================================\n",
      "input_1 (InputLayer)         (None, 48, 48, 3)         0         \n",
      "_________________________________________________________________\n",
      "block1_conv1 (Conv2D)        (None, 48, 48, 64)        1792      \n",
      "_________________________________________________________________\n",
      "block1_conv2 (Conv2D)        (None, 48, 48, 64)        36928     \n",
      "_________________________________________________________________\n",
      "block1_pool (MaxPooling2D)   (None, 24, 24, 64)        0         \n",
      "_________________________________________________________________\n",
      "block2_conv1 (Conv2D)        (None, 24, 24, 128)       73856     \n",
      "_________________________________________________________________\n",
      "block2_conv2 (Conv2D)        (None, 24, 24, 128)       147584    \n",
      "_________________________________________________________________\n",
      "block2_pool (MaxPooling2D)   (None, 12, 12, 128)       0         \n",
      "_________________________________________________________________\n",
      "block3_conv1 (Conv2D)        (None, 12, 12, 256)       295168    \n",
      "_________________________________________________________________\n",
      "block3_conv2 (Conv2D)        (None, 12, 12, 256)       590080    \n",
      "_________________________________________________________________\n",
      "block3_conv3 (Conv2D)        (None, 12, 12, 256)       590080    \n",
      "_________________________________________________________________\n",
      "block3_pool (MaxPooling2D)   (None, 6, 6, 256)         0         \n",
      "_________________________________________________________________\n",
      "block4_conv1 (Conv2D)        (None, 6, 6, 512)         1180160   \n",
      "_________________________________________________________________\n",
      "block4_conv2 (Conv2D)        (None, 6, 6, 512)         2359808   \n",
      "_________________________________________________________________\n",
      "block4_conv3 (Conv2D)        (None, 6, 6, 512)         2359808   \n",
      "_________________________________________________________________\n",
      "block4_pool (MaxPooling2D)   (None, 3, 3, 512)         0         \n",
      "_________________________________________________________________\n",
      "block5_conv1 (Conv2D)        (None, 3, 3, 512)         2359808   \n",
      "_________________________________________________________________\n",
      "block5_conv2 (Conv2D)        (None, 3, 3, 512)         2359808   \n",
      "_________________________________________________________________\n",
      "block5_conv3 (Conv2D)        (None, 3, 3, 512)         2359808   \n",
      "_________________________________________________________________\n",
      "block5_pool (MaxPooling2D)   (None, 1, 1, 512)         0         \n",
      "_________________________________________________________________\n",
      "flatten_1 (Flatten)          (None, 512)               0         \n",
      "_________________________________________________________________\n",
      "dense_1 (Dense)              (None, 128)               65664     \n",
      "_________________________________________________________________\n",
      "dense_2 (Dense)              (None, 7)                 903       \n",
      "=================================================================\n",
      "Total params: 14,781,255\n",
      "Trainable params: 66,567\n",
      "Non-trainable params: 14,714,688\n",
      "_________________________________________________________________\n"
     ]
    }
   ],
   "source": [
    "flat = Flatten()(vgg.output)\n",
    "layer1 = Dense(units=128,activation='relu')(flat)\n",
    "output = Dense(units=7,activation='softmax')(layer1)\n",
    "model = Model(inputs=vgg.input,outputs=output)\n",
    "model.summary()"
   ]
  },
  {
   "cell_type": "code",
   "execution_count": 6,
   "metadata": {},
   "outputs": [
    {
     "name": "stdout",
     "output_type": "stream",
     "text": [
      "Found 28709 images belonging to 7 classes.\n",
      "Found 28709 images belonging to 7 classes.\n"
     ]
    }
   ],
   "source": [
    "train_datagen = ImageDataGenerator(rescale=1.0/255,\n",
    "                                     horizontal_flip=True,\n",
    "                                     shear_range = 0.2,\n",
    "                                     zoom_range = 0.2)\n",
    "\n",
    "test_datagen = ImageDataGenerator(rescale=1.0/255)\n",
    "\n",
    "training_dataset = train_datagen.flow_from_directory('datasets/train',\n",
    "                                                 target_size = (48, 48),\n",
    "                                                 batch_size = 32,\n",
    "                                                 class_mode = 'categorical')\n",
    "test_dataset = test_datagen.flow_from_directory('datasets/train',\n",
    "                                                 target_size = (48, 48),\n",
    "                                                 batch_size = 32,\n",
    "                                                 class_mode = 'categorical')"
   ]
  },
  {
   "cell_type": "code",
   "execution_count": 7,
   "metadata": {},
   "outputs": [],
   "source": [
    "checkpoint = ModelCheckpoint('model1.h5', verbose=1, monitor='val_loss',save_best_only=True, mode='min') \n",
    "\n",
    "model.compile(optimizer='adam',loss='categorical_crossentropy',metrics=['accuracy'])"
   ]
  },
  {
   "cell_type": "code",
   "execution_count": 8,
   "metadata": {},
   "outputs": [
    {
     "name": "stdout",
     "output_type": "stream",
     "text": [
      "Epoch 1/20\n",
      "898/898 [==============================] - 30s 34ms/step - loss: 1.6623 - accuracy: 0.3429 - val_loss: 1.9345 - val_accuracy: 0.3844\n",
      "\n",
      "Epoch 00001: val_loss improved from inf to 1.93446, saving model to model1.h5\n",
      "Epoch 2/20\n",
      "898/898 [==============================] - 29s 32ms/step - loss: 1.5950 - accuracy: 0.3762 - val_loss: 1.4519 - val_accuracy: 0.3972\n",
      "\n",
      "Epoch 00002: val_loss improved from 1.93446 to 1.45186, saving model to model1.h5\n",
      "Epoch 3/20\n",
      "898/898 [==============================] - 28s 32ms/step - loss: 1.5711 - accuracy: 0.3865 - val_loss: 1.7782 - val_accuracy: 0.4216\n",
      "\n",
      "Epoch 00003: val_loss did not improve from 1.45186\n",
      "Epoch 4/20\n",
      "898/898 [==============================] - 29s 32ms/step - loss: 1.5523 - accuracy: 0.3934 - val_loss: 0.9780 - val_accuracy: 0.4152\n",
      "\n",
      "Epoch 00004: val_loss improved from 1.45186 to 0.97796, saving model to model1.h5\n",
      "Epoch 5/20\n",
      "898/898 [==============================] - 29s 32ms/step - loss: 1.5380 - accuracy: 0.4020 - val_loss: 1.4977 - val_accuracy: 0.4301\n",
      "\n",
      "Epoch 00005: val_loss did not improve from 0.97796\n",
      "Epoch 6/20\n",
      "898/898 [==============================] - 28s 32ms/step - loss: 1.5289 - accuracy: 0.4065 - val_loss: 1.5437 - val_accuracy: 0.4345\n",
      "\n",
      "Epoch 00006: val_loss did not improve from 0.97796\n",
      "Epoch 7/20\n",
      "898/898 [==============================] - 29s 32ms/step - loss: 1.5172 - accuracy: 0.4117 - val_loss: 1.5388 - val_accuracy: 0.4434\n",
      "\n",
      "Epoch 00007: val_loss did not improve from 0.97796\n",
      "Epoch 8/20\n",
      "898/898 [==============================] - 28s 32ms/step - loss: 1.5062 - accuracy: 0.4157 - val_loss: 0.9976 - val_accuracy: 0.4478\n",
      "\n",
      "Epoch 00008: val_loss did not improve from 0.97796\n",
      "Epoch 9/20\n",
      "898/898 [==============================] - 28s 32ms/step - loss: 1.4979 - accuracy: 0.4217 - val_loss: 1.4061 - val_accuracy: 0.4348\n",
      "\n",
      "Epoch 00009: val_loss did not improve from 0.97796\n",
      "Epoch 10/20\n",
      "898/898 [==============================] - 29s 32ms/step - loss: 1.4831 - accuracy: 0.4262 - val_loss: 2.1108 - val_accuracy: 0.4555\n",
      "\n",
      "Epoch 00010: val_loss did not improve from 0.97796\n",
      "Epoch 11/20\n",
      "898/898 [==============================] - 28s 32ms/step - loss: 1.4750 - accuracy: 0.4300 - val_loss: 0.7642 - val_accuracy: 0.4505\n",
      "\n",
      "Epoch 00011: val_loss improved from 0.97796 to 0.76425, saving model to model1.h5\n",
      "Epoch 12/20\n",
      "898/898 [==============================] - 28s 32ms/step - loss: 1.4647 - accuracy: 0.4341 - val_loss: 0.8050 - val_accuracy: 0.4552\n",
      "\n",
      "Epoch 00012: val_loss did not improve from 0.76425\n",
      "Epoch 13/20\n",
      "898/898 [==============================] - 29s 32ms/step - loss: 1.4595 - accuracy: 0.4366 - val_loss: 1.3272 - val_accuracy: 0.4636\n",
      "\n",
      "Epoch 00013: val_loss did not improve from 0.76425\n",
      "Epoch 14/20\n",
      "898/898 [==============================] - 28s 32ms/step - loss: 1.4489 - accuracy: 0.4395 - val_loss: 0.9569 - val_accuracy: 0.4697\n",
      "\n",
      "Epoch 00014: val_loss did not improve from 0.76425\n",
      "Epoch 15/20\n",
      "898/898 [==============================] - 29s 32ms/step - loss: 1.4408 - accuracy: 0.4428 - val_loss: 1.5217 - val_accuracy: 0.4642\n",
      "\n",
      "Epoch 00015: val_loss did not improve from 0.76425\n",
      "Epoch 16/20\n",
      "898/898 [==============================] - 29s 32ms/step - loss: 1.4375 - accuracy: 0.4462 - val_loss: 1.3676 - val_accuracy: 0.4663\n",
      "\n",
      "Epoch 00016: val_loss did not improve from 0.76425\n",
      "Epoch 17/20\n",
      "898/898 [==============================] - 28s 32ms/step - loss: 1.4304 - accuracy: 0.4486 - val_loss: 1.1001 - val_accuracy: 0.4733\n",
      "\n",
      "Epoch 00017: val_loss did not improve from 0.76425\n",
      "Epoch 18/20\n",
      "898/898 [==============================] - 28s 32ms/step - loss: 1.4239 - accuracy: 0.4515 - val_loss: 0.7566 - val_accuracy: 0.4759\n",
      "\n",
      "Epoch 00018: val_loss improved from 0.76425 to 0.75656, saving model to model1.h5\n",
      "Epoch 19/20\n",
      "898/898 [==============================] - 29s 32ms/step - loss: 1.4184 - accuracy: 0.4524 - val_loss: 1.2132 - val_accuracy: 0.4826\n",
      "\n",
      "Epoch 00019: val_loss did not improve from 0.75656\n",
      "Epoch 20/20\n",
      "898/898 [==============================] - 28s 32ms/step - loss: 1.4087 - accuracy: 0.4595 - val_loss: 1.2537 - val_accuracy: 0.4780\n",
      "\n",
      "Epoch 00020: val_loss did not improve from 0.75656\n"
     ]
    }
   ],
   "source": [
    "final = model.fit_generator(training_dataset,\n",
    "                              validation_data=test_dataset,\n",
    "                              callbacks=[checkpoint],\n",
    "                              epochs=20,\n",
    "                              steps_per_epoch=len(training_dataset),\n",
    "                              validation_steps=len(test_dataset))"
   ]
  },
  {
   "cell_type": "code",
   "execution_count": 10,
   "metadata": {},
   "outputs": [],
   "source": [
    "from numba import cuda\n",
    "cuda.select_device(0)\n",
    "cuda.close()"
   ]
  },
  {
   "cell_type": "code",
   "execution_count": 14,
   "metadata": {},
   "outputs": [
    {
     "data": {
      "image/png": "[encoded data removed]",
      "text/plain": [
       "<Figure size 576x576 with 2 Axes>"
      ]
     },
     "metadata": {
      "needs_background": "light"
     },
     "output_type": "display_data"
    }
   ],
   "source": [
    "acc = final.history['accuracy']\n",
    "val_acc = final.history['val_accuracy']\n",
    "\n",
    "loss = final.history['loss']\n",
    "val_loss = final.history['val_loss']\n",
    "\n",
    "plt.figure(figsize=(8, 8))\n",
    "plt.subplot(2, 1, 1)\n",
    "plt.plot(acc, label='Training Accuracy')\n",
    "plt.plot(val_acc, label='Validation Accuracy')\n",
    "plt.legend(loc='lower right')\n",
    "plt.ylabel('Accuracy')\n",
    "plt.ylim([min(plt.ylim()),1])\n",
    "plt.title('Training and Validation Accuracy')\n",
    "\n",
    "plt.subplot(2, 1, 2)\n",
    "plt.plot(loss, label='Training Loss')\n",
    "plt.plot(val_loss, label='Validation Loss')\n",
    "plt.legend(loc='upper right')\n",
    "plt.ylabel('Cross Entropy')\n",
    "plt.ylim(0.7)\n",
    "plt.title('Training and Validation Loss')\n",
    "plt.xlabel('epoch')\n",
    "plt.show()"
   ]
  },
  {
   "cell_type": "code",
   "execution_count": null,
   "metadata": {},
   "outputs": [],
   "source": []
  }
 ],
 "metadata": {
  "kernelspec": {
   "display_name": "Python 3",
   "language": "python",
   "name": "python3"
  },
  "language_info": {
   "codemirror_mode": {
    "name": "ipython",
    "version": 3
   },
   "file_extension": ".py",
   "mimetype": "text/x-python",
   "name": "python",
   "nbconvert_exporter": "python",
   "pygments_lexer": "ipython3",
   "version": "3.6.9"
  }
 },
 "nbformat": 4,
 "nbformat_minor": 2
}
